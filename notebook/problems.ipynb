{
    "cells": [
        {
            "cell_type": "markdown",
            "id": "ac622319",
            "metadata": {},
            "source": [
                "# Descriptive statistics problems"
            ]
        },
        {
            "cell_type": "markdown",
            "id": "aa8993e4",
            "metadata": {},
            "source": [
                "### Exercise 1"
            ]
        },
        {
            "cell_type": "markdown",
            "id": "5e0ab0d5",
            "metadata": {},
            "source": [
                "We will use Numpy to obtain information to describe statistically.\n",
                "\n",
                "- Generate an array of 100 elements following a normal distribution.\n",
                "- Generate an array of 100 elements following a chi-square distribution with 3 degrees of freedom.\n",
                "- Calculate the main metrics and statistical measures that best describe the two vectors."
            ]
        },
        {
            "cell_type": "code",
            "execution_count": 1,
            "id": "34720ab6",
            "metadata": {},
            "outputs": [
                {
                    "name": "stdout",
                    "output_type": "stream",
                    "text": [
                        "0.0605828520756987\n",
                        "3.177425087251646\n",
                        "0.0640739115622942\n",
                        "2.6006114674034078\n",
                        "1.6243453636632417\n",
                        "1.4945774552801123\n",
                        "4.487114103413444\n",
                        "RANGE 13.15901303057271\n",
                        "0.7914156796814815\n",
                        "7.2321195651915104\n",
                        "0.8896154673124121\n",
                        "7.2321195651915104\n",
                        "-0.0044816514359261265\n",
                        "1.3584574111293857\n",
                        "-0.0010829102812701663\n",
                        "1.8104807492291926\n"
                    ]
                }
            ],
            "source": [
                "# TODO\n",
                "import numpy as np\n",
                "import statistics as stats\n",
                "from scipy.stats import skew\n",
                "from scipy.stats import kurtosis\n",
                "\n",
                "\n",
                "np.random.seed(1)\n",
                "arraynormal = np.random.normal(size=100)\n",
                "# print(f\"This is the normal vector : \", arraynormal)\n",
                "arraychi= np.random.chisquare(3,100)\n",
                "# print(f\"This is the chi-square vector :\", arraychi)\n",
                "\n",
                "# MEDIDAS DE TENDENCIA CENTRAL:\n",
                "    # MEDIA - MEDIANA - MODA \n",
                "# MEDIDAS DE DISPERSION\n",
                "    # RANGO -  VARIANZA - DESVIACION ESTANDAR  \n",
                "#  MEDIDAS DE FORMA\n",
                "    # OBLICUIDAD  - CURTOIS\n",
                "\n",
                "# MEDIA\n",
                "\n",
                "media_arraynormal = stats.mean(arraynormal)\n",
                "print(media_arraynormal)\n",
                "media_arraychi_square = stats.mean(arraychi)\n",
                "print(media_arraychi_square)\n",
                "\n",
                "# MEDIANA\n",
                "mediana_arraynormal = stats.median(arraynormal)\n",
                "print(mediana_arraynormal)\n",
                "mediana_arraychi = stats.median(arraychi)\n",
                "print(mediana_arraychi)\n",
                "\n",
                "# MODA\n",
                "\n",
                "mode_arraynormal = stats.mode(arraynormal)\n",
                "print(mode_arraynormal)\n",
                "mode_arraychi = stats.mode(arraychi)\n",
                "print(mode_arraychi)\n",
                "\n",
                "# RANGO\n",
                "range_arraynormal = max(arraynormal) - min(arraynormal)\n",
                "print(range_arraynormal)\n",
                "range_arraychi = max(arraychi) - min(arraychi)\n",
                "print(f\"RANGE\",range_arraychi)\n",
                "\n",
                "# VARIANZA\n",
                "varianza_arraynormal = stats.variance(arraynormal)\n",
                "print(varianza_arraynormal)\n",
                "varianza_arraychi = stats.variance(arraychi)\n",
                "print(varianza_arraychi)\n",
                "\n",
                "# DESVIACION STANDAR\n",
                "\n",
                "stdev_arraynormal = stats.stdev(arraynormal)\n",
                "print(stdev_arraynormal)\n",
                "stdev_arraychi = stats.variance(arraychi)\n",
                "print(stdev_arraychi)\n",
                "\n",
                "# OBLICUIDAD\n",
                "\n",
                "skew_arraynormal = skew(arraynormal)\n",
                "print(skew_arraynormal)\n",
                "skew_arraychi = skew(arraychi)\n",
                "print(skew_arraychi)\n",
                "\n",
                "# CURTOSIS\n",
                "\n",
                "kurt_arraynormal = kurtosis(arraynormal)\n",
                "print(kurt_arraynormal)\n",
                "kurt_arraychi = kurtosis(arraychi)\n",
                "print(kurt_arraychi)\n"
            ]
        },
        {
            "cell_type": "code",
            "execution_count": null,
            "id": "7c394312",
            "metadata": {},
            "outputs": [],
            "source": []
        },
        {
            "cell_type": "markdown",
            "id": "46c70c3d",
            "metadata": {},
            "source": [
                "### Exercise 2\n",
                "\n",
                "Write a Python program to calculate the standard deviation of the following data:\n",
                "\n",
                "```py\n",
                "data = [4, 2, 5, 8, 6]\n",
                "```"
            ]
        },
        {
            "cell_type": "code",
            "execution_count": 27,
            "id": "d590308e",
            "metadata": {},
            "outputs": [
                {
                    "name": "stdout",
                    "output_type": "stream",
                    "text": [
                        "2.23606797749979\n"
                    ]
                }
            ],
            "source": [
                "# TODO\n",
                "import math\n",
                "import sys\n",
                "\n",
                "# Define the standard deviation function\n",
                "\n",
                "def sd_calc(data):\n",
                "    mean = avg_calc(data)\n",
                "    variance = sum((x - mean)**2 for x in data) / (len(data) -1)\n",
                "    standard_deviation = math.sqrt(variance)\n",
                "    return standard_deviation\n",
                "  \n",
                "\n",
                "# Define the average function\n",
                "\n",
                "def avg_calc(ls):\n",
                "    return sum(ls) / len(ls)\n",
                "\n",
                "\n",
                "data = [4, 2, 5, 8, 6]\n",
                "\n",
                "#print the data\n",
                "print(data)\n",
                "\n",
                "#print the standard deviation of the data\n",
                "print(sd_calc(data))\n",
                "\n",
                "\n",
                "\n"
            ]
        }
    ],
    "metadata": {
        "interpreter": {
            "hash": "9248718ffe6ce6938b217e69dbcc175ea21f4c6b28a317e96c05334edae734bb"
        },
        "kernelspec": {
            "display_name": "Python 3.9.12 ('ML-BOOTCAMP')",
            "language": "python",
            "name": "python3"
        },
        "language_info": {
            "codemirror_mode": {
                "name": "ipython",
                "version": 3
            },
            "file_extension": ".py",
            "mimetype": "text/x-python",
            "name": "python",
            "nbconvert_exporter": "python",
            "pygments_lexer": "ipython3",
            "version": "3.11.4"
        }
    },
    "nbformat": 4,
    "nbformat_minor": 5
}
